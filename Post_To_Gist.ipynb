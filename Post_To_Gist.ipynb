{
 "cells": [
  {
   "cell_type": "markdown",
   "metadata": {},
   "source": [
    "# Post_To_Gist.ipynb"
   ]
  },
  {
   "cell_type": "markdown",
   "metadata": {},
   "source": [
    "<b>\n",
    "This notebook can upload to Gisthub and copy the results to a database.<br />\n",
    "Data in in database includes:<br />\n",
    "&nbsp;&nbsp;&nbsp;&nbsp;&nbsp;Gisthub url location<br />\n",
    "&nbsp;&nbsp;&nbsp;&nbsp;&nbsp;The filename\n",
    "&nbsp;&nbsp;&nbsp;&nbsp;&nbsp;The code / script<br />\n",
    "</b>    "
   ]
  },
  {
   "cell_type": "code",
   "execution_count": 5,
   "metadata": {},
   "outputs": [],
   "source": [
    "import sys\n",
    "from GISTstore import GISTkey"
   ]
  },
  {
   "cell_type": "code",
   "execution_count": 4,
   "metadata": {
    "scrolled": true
   },
   "outputs": [
    {
     "name": "stdout",
     "output_type": "stream",
     "text": [
      "https://gist.github.com/db5231199f76d5a7ca20c9005306f8a6 \n",
      "97 from __future__ import division\n",
      "from PIL import Image\n",
      "def REsize(img, base):\n",
      "    im = Image.open(img)\n",
      "    w, h = im.size\n",
      "    x = base/w\n",
      "    y = int(h * x)\n",
      "    # many processes require even numbers\n",
      "    # resizes to the next highest even number\n",
      "    if y %2 != 0:\n",
      "        y = y+1\n",
      "    imout = im.resize((base, y))\n",
      "    return imout\n",
      "    \n",
      "img = 'images/testimage.jpg'\n",
      "base = 350\n",
      "see = REsize(img, base) \n",
      "see https://gist.github.com/db5231199f76d5a7ca20c9005306f8a6 resize_with_aspect.py\n",
      "https://gist.github.com/db5231199f76d5a7ca20c9005306f8a6 \n",
      "98 Index https://gist.github.com/db5231199f76d5a7ca20c9005306f8a6 resize_with_aspect.py\n"
     ]
    }
   ],
   "source": [
    "#%%writefile GISTstore/post2gist.py\n",
    "from time import sleep\n",
    "import sqlite3\n",
    "import os, requests, sys, json\n",
    "from GISTstore import GISTkey\n",
    "username=GISTkey.gistkey()[0]\n",
    "password=GISTkey.gistkey()[1]\n",
    "database ='GISTstore/gist.db'\n",
    "conn = sqlite3.connect(database)\n",
    "c = conn.cursor()\n",
    "c.execute(\"\"\"\n",
    "CREATE VIRTUAL TABLE IF NOT EXISTS gist \n",
    "USING FTS4(content, description, filename);\n",
    "\"\"\")\n",
    "c.close()\n",
    "conn.close()\n",
    "conn = sqlite3.connect(database)\n",
    "conn.text_factory=str \n",
    "c = conn.cursor()\n",
    "# filename to upload to gist\n",
    "filename = \"resize_with_aspect.py\"\n",
    "content=open(filename, 'r').read()\n",
    "\"\"\"r = requests.post('https://api.github.com/gists',\n",
    "json.dumps({'files':{filename:{\"content\":content}}}),\n",
    "auth=requests.auth.HTTPBasicAuth(username, password)) \n",
    "\"\"\"\n",
    "r = requests.post('https://api.github.com/gists',json.dumps({'files':{filename:{\"content\":content}}}),auth=requests.auth.HTTPBasicAuth(\"username\", \"password\"))\n",
    "sleep(2)\n",
    "Url= (r.json()['html_url'])\n",
    "c.execute(\"INSERT INTO gist VALUES (?,?,?)\", (content, Url, filename)) \n",
    "conn.commit()\n",
    "title = \"Index\"\n",
    "c.execute(\"INSERT INTO gist VALUES (?,?,?)\", (title, Url, filename)) \n",
    "conn.commit()\n",
    "for row in c.execute('SELECT rowid, content, description, filename FROM gist \\\n",
    "    WHERE filename MATCH ?', (filename,)):\n",
    "        print Url,\"\\n\",row[0],row[1],row[2],row[3]\n",
    "c.close()\n",
    "conn.close()"
   ]
  },
  {
   "cell_type": "markdown",
   "metadata": {},
   "source": [
    "## Create a directory Giststore\n",
    "This will hold your database and files in order to create a module"
   ]
  },
  {
   "cell_type": "code",
   "execution_count": 35,
   "metadata": {
    "collapsed": true
   },
   "outputs": [],
   "source": [
    "!mkdir GISTstore"
   ]
  },
  {
   "cell_type": "markdown",
   "metadata": {
    "collapsed": true
   },
   "source": [
    "## Create the __init__.py file \n",
    "In order to create a module / directory with the ability to be imported it must have an initiate file.\n",
    "The file, even if empty, must exist. In this case, the file contain a comment of the version."
   ]
  },
  {
   "cell_type": "code",
   "execution_count": 27,
   "metadata": {},
   "outputs": [
    {
     "name": "stdout",
     "output_type": "stream",
     "text": [
      "Overwriting GISTstore/__init__.py\n"
     ]
    }
   ],
   "source": [
    "%%writefile GISTstore/__init__.py\n",
    "#ver 2.1"
   ]
  },
  {
   "cell_type": "markdown",
   "metadata": {},
   "source": [
    "# How to create GISTkey.py\n",
    "gist.github requires a login Same login as used with your browser."
   ]
  },
  {
   "cell_type": "code",
   "execution_count": 3,
   "metadata": {},
   "outputs": [
    {
     "name": "stdout",
     "output_type": "stream",
     "text": [
      "Writing GISTstore/GISTkey.py\n"
     ]
    }
   ],
   "source": [
    "%%writefile GISTstore/GISTkey.py\n",
    "# USE:\n",
    "#import GISTkey\n",
    "#username=GISTkey.gistkey()[0]\n",
    "#password=GISTkey.gistkey()[1]\n",
    "def gistkey():\n",
    "    username='username'\n",
    "    password=\"password\"\n",
    "    GistAuth = (username, password)\n",
    "    return GistAuth"
   ]
  },
  {
   "cell_type": "markdown",
   "metadata": {},
   "source": [
    "## Post To Gist --- PostToGist.py  AND Post in SQLite "
   ]
  },
  {
   "cell_type": "code",
   "execution_count": 4,
   "metadata": {},
   "outputs": [
    {
     "name": "stdout",
     "output_type": "stream",
     "text": [
      "eyeD3-pip-0.6.19\t hurry.filesize-0.9.tar.gz\t music.list\r\n",
      "eyeD3-pip-0.6.19.tar.gz  __init__.py\t\t\t muz.list\r\n",
      "gist.db\t\t\t __init__.pyc\t\t\t Pmp3.py\r\n",
      "GistIndex.py\t\t install-avbin-linux-x86-64-v10  Pmp3.pyc\r\n",
      "GISTkey.py\t\t MP3play.py\t\t\t post2gist.py\r\n",
      "GISTkey.pyc\t\t MP3play.pyc\t\t\t SimpleGistPost.py\r\n",
      "gist.py\t\t\t music.db\t\t\t UnCamel.py\r\n"
     ]
    }
   ],
   "source": [
    "!ls GISTstore"
   ]
  },
  {
   "cell_type": "code",
   "execution_count": 28,
   "metadata": {},
   "outputs": [
    {
     "name": "stdout",
     "output_type": "stream",
     "text": [
      "Help on function post in module requests.api:\n",
      "\n",
      "post(url, data=None, json=None, **kwargs)\n",
      "    Sends a POST request.\n",
      "    \n",
      "    :param url: URL for the new :class:`Request` object.\n",
      "    :param data: (optional) Dictionary, bytes, or file-like object to send in the body of the :class:`Request`.\n",
      "    :param json: (optional) json data to send in the body of the :class:`Request`.\n",
      "    :param \\*\\*kwargs: Optional arguments that ``request`` takes.\n",
      "    :return: :class:`Response <Response>` object\n",
      "    :rtype: requests.Response\n",
      "\n"
     ]
    }
   ],
   "source": [
    "import os, requests, sys, json\n",
    "help(requests.post)"
   ]
  },
  {
   "cell_type": "markdown",
   "metadata": {},
   "source": [
    "# SQLite database\n",
    "## View Gists published to https://gist.github.com"
   ]
  },
  {
   "cell_type": "code",
   "execution_count": 2,
   "metadata": {
    "scrolled": false
   },
   "outputs": [
    {
     "name": "stdout",
     "output_type": "stream",
     "text": [
      "2 Index https://gist.github.com/f67b8ecf4589b531f408d798a4e650eb post2gist.py\n",
      "4 Index https://gist.github.com/d640c0100e5535b608e2fe0f4e8fe925 GISTkey.py\n",
      "6 Index https://gist.github.com/71cd9394db91fd089765861ebf121b0e SimpleGistPost.py\n",
      "8 Index https://gist.github.com/8426999e17ef19b9ea7e2a27a3223773 Pmp3.py\n",
      "10 Index https://gist.github.com/76663365e1c77ad6ba19c25009001c03 UnCamel.py\n",
      "12 Index https://gist.github.com/5d86ae97f513a505db5c28320dd178b1 UnCamel.py\n",
      "14 Index https://gist.github.com/bb549704359b7d70ab504f424ca559af Post_To_Gist _PostToGist.py.ipynb\n",
      "16 Index https://gist.github.com/4f3242cb979cd537907a21ae67f89105 dir2file.py\n",
      "18 Index https://gist.github.com/9cc44e95db00a0277b3fb03d8299466e ViewRows.py\n",
      "20 Index https://gist.github.com/b839d15fe91f8fcbe45f2d0694829cc4 runit.py\n",
      "22 Index https://gist.github.com/fb5358b5ce3e774fb3f62872cf340d62 runitdb.py\n",
      "24 Index https://gist.github.com/432b4d96a52057c16229c4a89e0186f9 MP3play.py\n",
      "26 Index https://gist.github.com/453817a53d4f6737f53e55fab9b25a14 dbINFO.py\n",
      "28 Index https://gist.github.com/382d56d56245df975c6d7d93b5c24837 StoreBinary.py\n",
      "30 Index https://gist.github.com/e259312d9c23795197d8b2822c6d77c1 playbinary.py\n",
      "32 Index https://gist.github.com/8a940c83093f6fd653bf2a27efa81d4e GistIndex.py\n",
      "34 Index https://gist.github.com/5e133f13aad9552497a74c3b31822ba9 find_terminal_command_in_history.py\n",
      "36 Index https://gist.github.com/68e90ef2bd8779217ae8628365c5942a rgb_hsv_colorpicker.py\n",
      "38 Index https://gist.github.com/8e7d92ce4a6b8c334a5782ad3d4bd21e colorwheel.py\n",
      "40 Index https://gist.github.com/15cc862c8a1953d67723cc6903a7532e NoListDups.py\n",
      "42 Index https://gist.github.com/ee1c229f7eb93139eef52f981d26a871 CFDG_SaveRunView.py\n",
      "44 Index https://gist.github.com/2bf5b98c8c14483b6a1eef95b62120b8 viewGISTS.py\n",
      "46 Index https://gist.github.com/f57502a2c312c4f5a00bd10ad6e18f46 FindDpSnippets.py\n",
      "48 Index https://gist.github.com/17eb0473f12a1024b587283545c22ead Snippets.txt\n",
      "50 Index https://gist.github.com/df011b4835fed21ddf219bdc2759fe4f countlines.py\n",
      "52 Index https://gist.github.com/45f471b4ec844ed4c399ce6fd261f69a Compare.py\n",
      "54 Index https://gist.github.com/6a998d1fc27e2a85446590fb31e4629a Beautihelp.py\n",
      "56 Index https://gist.github.com/93860ae70bbc6262d85a45c16c99913c locationInfo.py\n",
      "58 Index https://gist.github.com/308f5b650cea1ae51b8566ea36d6d749 viewNlines.py\n",
      "60 Index https://gist.github.com/8fc267a8ca26da3ec96afc8c34334d4e dateTodec.py\n",
      "62 Index https://gist.github.com/7ced2ac25f4464cde23fa7995b398917 ArgTest.py\n",
      "64 Index https://gist.github.com/3fed772cee30cc00f616eb2f535a2952 Date_in_Dec.py\n",
      "66 Index https://gist.github.com/9fd662ee3d12a26decf0459da80601e3 ToyPlot.py\n",
      "68 Index https://gist.github.com/2778922902bedb309d76c8c3999e524a ex001_matplotlib.py\n",
      "70 Index https://gist.github.com/fa114883bc30db0a6bd24693e8b32859 learnPylab.py\n",
      "72 Index https://gist.github.com/9a2bd33b0263df26f22a8537e1abdbb5 OpenCO2.py\n",
      "74 Index https://gist.github.com/005e2b61a91bfb3e255cf2633155d3fa LISTexample.py\n"
     ]
    }
   ],
   "source": [
    "!python GISTstore/GistIndex.py"
   ]
  },
  {
   "cell_type": "code",
   "execution_count": 14,
   "metadata": {},
   "outputs": [
    {
     "name": "stdout",
     "output_type": "stream",
     "text": [
      "2 Index https://gist.github.com/f67b8ecf4589b531f408d798a4e650eb post2gist.py\n",
      "4 Index https://gist.github.com/d640c0100e5535b608e2fe0f4e8fe925 GISTkey.py\n",
      "6 Index https://gist.github.com/71cd9394db91fd089765861ebf121b0e SimpleGistPost.py\n",
      "8 Index https://gist.github.com/8426999e17ef19b9ea7e2a27a3223773 Pmp3.py\n",
      "10 Index https://gist.github.com/76663365e1c77ad6ba19c25009001c03 UnCamel.py\n",
      "12 Index https://gist.github.com/5d86ae97f513a505db5c28320dd178b1 UnCamel.py\n",
      "14 Index https://gist.github.com/bb549704359b7d70ab504f424ca559af Post_To_Gist _PostToGist.py.ipynb\n",
      "16 Index https://gist.github.com/4f3242cb979cd537907a21ae67f89105 dir2file.py\n",
      "18 Index https://gist.github.com/9cc44e95db00a0277b3fb03d8299466e ViewRows.py\n",
      "20 Index https://gist.github.com/b839d15fe91f8fcbe45f2d0694829cc4 runit.py\n",
      "22 Index https://gist.github.com/fb5358b5ce3e774fb3f62872cf340d62 runitdb.py\n",
      "24 Index https://gist.github.com/432b4d96a52057c16229c4a89e0186f9 MP3play.py\n",
      "26 Index https://gist.github.com/453817a53d4f6737f53e55fab9b25a14 dbINFO.py\n",
      "28 Index https://gist.github.com/382d56d56245df975c6d7d93b5c24837 StoreBinary.py\n",
      "30 Index https://gist.github.com/e259312d9c23795197d8b2822c6d77c1 playbinary.py\n",
      "32 Index https://gist.github.com/8a940c83093f6fd653bf2a27efa81d4e GistIndex.py\n",
      "34 Index https://gist.github.com/5e133f13aad9552497a74c3b31822ba9 find_terminal_command_in_history.py\n",
      "36 Index https://gist.github.com/68e90ef2bd8779217ae8628365c5942a rgb_hsv_colorpicker.py\n",
      "38 Index https://gist.github.com/8e7d92ce4a6b8c334a5782ad3d4bd21e colorwheel.py\n",
      "40 Index https://gist.github.com/15cc862c8a1953d67723cc6903a7532e NoListDups.py\n",
      "42 Index https://gist.github.com/ee1c229f7eb93139eef52f981d26a871 CFDG_SaveRunView.py\n",
      "44 Index https://gist.github.com/2bf5b98c8c14483b6a1eef95b62120b8 viewGISTS.py\n",
      "46 Index https://gist.github.com/f57502a2c312c4f5a00bd10ad6e18f46 FindDpSnippets.py\n",
      "48 Index https://gist.github.com/17eb0473f12a1024b587283545c22ead Snippets.txt\n",
      "50 Index https://gist.github.com/df011b4835fed21ddf219bdc2759fe4f countlines.py\n",
      "52 Index https://gist.github.com/45f471b4ec844ed4c399ce6fd261f69a Compare.py\n",
      "54 Index https://gist.github.com/6a998d1fc27e2a85446590fb31e4629a Beautihelp.py\n",
      "56 Index https://gist.github.com/93860ae70bbc6262d85a45c16c99913c locationInfo.py\n",
      "58 Index https://gist.github.com/308f5b650cea1ae51b8566ea36d6d749 viewNlines.py\n",
      "60 Index https://gist.github.com/8fc267a8ca26da3ec96afc8c34334d4e dateTodec.py\n",
      "62 Index https://gist.github.com/7ced2ac25f4464cde23fa7995b398917 ArgTest.py\n",
      "64 Index https://gist.github.com/3fed772cee30cc00f616eb2f535a2952 Date_in_Dec.py\n",
      "66 Index https://gist.github.com/9fd662ee3d12a26decf0459da80601e3 ToyPlot.py\n",
      "68 Index https://gist.github.com/2778922902bedb309d76c8c3999e524a ex001_matplotlib.py\n",
      "70 Index https://gist.github.com/fa114883bc30db0a6bd24693e8b32859 learnPylab.py\n",
      "72 Index https://gist.github.com/9a2bd33b0263df26f22a8537e1abdbb5 OpenCO2.py\n",
      "74 Index https://gist.github.com/005e2b61a91bfb3e255cf2633155d3fa LISTexample.py\n",
      "76 Index https://gist.github.com/c25fd1877a63671955d7b56d3f9c7ead ARGS_and___main__.ipynb\n",
      "78 Index https://gist.github.com/f77d7ecf17a8f92d6a036393071aa60f sys-argv.txt\n",
      "80 Index https://gist.github.com/d77ed15f2b559f10673eb9ba531bbb69 viewCSV01.py\n",
      "82 Index https://gist.github.com/fceef9445be08ee1c2ee76a56451a140 viewCSVlines.py\n",
      "84 Index https://gist.github.com/9468f303803c522da7d7cb25a8a598fa TwitterPrep.py\n",
      "86 Index https://gist.github.com/6b336a5d6b7aa58574e9de11e19b2428 Python_image_mean.script\n",
      "88 Index https://gist.github.com/8f90a8b78403c5eee19b4538134a55af FFMPEG.ipynb\n",
      "90 Index https://gist.github.com/683479a10baff886b1fa32729c3c612f SearchFile.py\n",
      "92 Index https://gist.github.com/0d40cde2206255a9ae7f85038d7767f5 ReadLines.py\n",
      "94 Index https://gist.github.com/c3bbe36389dc858fa85569c12814a165 GDownload.py\n",
      "96 Index https://gist.github.com/bf5ce8b26bcc40fdee4196c75a857a66 jointxt.py\n",
      "98 Index https://gist.github.com/db5231199f76d5a7ca20c9005306f8a6 resize_with_aspect.py\n"
     ]
    }
   ],
   "source": [
    "#%%writefile GistIndex.py\n",
    "# Useage: python GistIndex.py\n",
    "# Prints an index of all posts in the database created by post2gist.py \n",
    "import sqlite3\n",
    "def Index():\n",
    "    database ='GISTstore/gist.db'\n",
    "    conn = sqlite3.connect(database)\n",
    "    c = conn.cursor()\n",
    "    for row in c.execute('SELECT rowid, content, description, filename FROM gist \\\n",
    "        WHERE content = ?', (\"Index\",)):\n",
    "            print row[0],row[1],row[2],row[3]\n",
    "            \n",
    "\n",
    "if __name__ == \"__main__\":\n",
    "    Index() "
   ]
  },
  {
   "cell_type": "code",
   "execution_count": 15,
   "metadata": {},
   "outputs": [
    {
     "name": "stdout",
     "output_type": "stream",
     "text": [
      "ROWID : 28\n",
      "Url\n",
      "27 #Creating a database and inserting binaries\n",
      "\"\"\"\n",
      "Created to store sound for slide show clips. However it will store any files in binary \n",
      "database. Great for images\n",
      "\n",
      "\"\"\"\n",
      "\n",
      "import sqlite3\n",
      "def open_db(database):\n",
      "    conn = sqlite3.connect(database)\n",
      "    c=conn.cursor()\n",
      "    c.execute(\n",
      "        '''create table if not exists Binaries(\n",
      "        ID INTEGER PRIMARY KEY AUTOINCREMENT,\n",
      "        binaryD BLOB,\n",
      "        TYPE TEXT,\n",
      "        FILE_NAME TEXT);''')\n",
      "\n",
      "def insert_binary(conn):\n",
      "    titlelist = \"GISTstore/music.list\"\n",
      "    titles = open(titlelist,\"r\")\n",
      "    for title in titles.readlines():\n",
      "        title = title.replace(\"\\n\",\"\")\n",
      "        filename = os.path.basename(title)\n",
      "        with open(title, 'rb') as input_file:\n",
      "            ablob = input_file.read()\n",
      "            base=os.path.basename(title)\n",
      "            afile, ext = os.path.splitext(base)\n",
      "            sql = '''INSERT INTO Binaries\n",
      "            (binaryD, TYPE, FILE_NAME)\n",
      "            VALUES(?, ?, ?);'''\n",
      "            conn.execute(sql,[sqlite3.Binary(ablob), ext, afile]) \n",
      "            conn.commit()\n",
      "database = 'MP3/junk4.db'\n",
      "open_db(database)            \n",
      "conn = sqlite3.connect(database)\n",
      "insert_binary(conn) https://gist.github.com/382d56d56245df975c6d7d93b5c24837 StoreBinary.py\n"
     ]
    }
   ],
   "source": [
    "#%%writefile viewGISTS.py\n",
    "# ODD number are Code\n",
    "# Even numbers were created just generate an index file\n",
    "import sqlite3\n",
    "def ViewGist():\n",
    "    database =\"GISTstore/gist.db\"\n",
    "    conn = sqlite3.connect(database)\n",
    "    c = conn.cursor()\n",
    "    rowid = int(raw_input(\"ROWID : \"))\n",
    "    if rowid %2 == 0:\n",
    "        rowid = rowid-1 \n",
    "    rowid =str(rowid)\n",
    "    for row in c.execute('SELECT rowid, content, description, filename FROM gist \\\n",
    "        WHERE rowid = ?', (rowid,)):\n",
    "            print 'Url\\n',row[0],row[1],row[2],row[3]            \n",
    "\n",
    "if __name__ == \"__main__\":\n",
    "    ViewGist()"
   ]
  },
  {
   "cell_type": "markdown",
   "metadata": {},
   "source": [
    "# Test your GISTkey"
   ]
  },
  {
   "cell_type": "code",
   "execution_count": 57,
   "metadata": {},
   "outputs": [
    {
     "name": "stdout",
     "output_type": "stream",
     "text": [
      "username password\n"
     ]
    }
   ],
   "source": [
    "from GISTstore import GISTkey\n",
    "username=GISTkey.gistkey()[0]\n",
    "password=GISTkey.gistkey()[1]\n",
    "print username,password"
   ]
  },
  {
   "cell_type": "markdown",
   "metadata": {},
   "source": [
    "# Python file created to 'Post To Gist.github' with command line "
   ]
  },
  {
   "cell_type": "code",
   "execution_count": 86,
   "metadata": {},
   "outputs": [
    {
     "name": "stdout",
     "output_type": "stream",
     "text": [
      "Overwriting PostToGist.py\n"
     ]
    }
   ],
   "source": [
    "%%writefile PostToGist.py\n",
    "#Python file created to 'Post To Gist.github' with command line \n",
    "#!/usr/bin/python\n",
    "\"\"\"\n",
    "This posts to gist.github only NOT to database\n",
    "Usage, to post fileExample.py:\n",
    "\n",
    "python PostToGist.py fileExample.py\n",
    "\"\"\"\n",
    "import os, requests, sys, json\n",
    "import GISTkey\n",
    "username=GISTkey.gist()[0]\n",
    "password=GISTkey.gist()[1]\n",
    "filename = os.path.basename(sys.argv[1])\n",
    "content=open(filename, 'r').read()\n",
    "r = requests.post('https://api.github.com/gists',json.dumps({'files':{filename:{\"content\":content}}}),auth=requests.auth.HTTPBasicAuth(username, password)) \n",
    "#give the site time to respond\n",
    "sleep(2)\n",
    "print(r.json()['html_url'])"
   ]
  },
  {
   "cell_type": "code",
   "execution_count": 16,
   "metadata": {},
   "outputs": [
    {
     "name": "stdout",
     "output_type": "stream",
     "text": [
      "gist.db       gist.pyc\t\t\t      MP3play.pyc  post2gist.py\r\n",
      "GistIndex.py  __init__.py\t\t      music.list   SimpleGistPost.py\r\n",
      "GISTkey.py    __init__.pyc\t\t      muz.list\r\n",
      "GISTkey.pyc   install-avbin-linux-x86-64-v10  Pmp3.py\r\n",
      "gist.py       MP3play.py\t\t      Pmp3.pyc\r\n"
     ]
    }
   ],
   "source": [
    "!ls GISTstore"
   ]
  },
  {
   "cell_type": "code",
   "execution_count": 18,
   "metadata": {},
   "outputs": [
    {
     "name": "stdout",
     "output_type": "stream",
     "text": [
      "username password\n"
     ]
    }
   ],
   "source": [
    "from GISTstore import GISTkey\n",
    "username=GISTkey.gistkey()[0]\n",
    "password=GISTkey.gistkey()[1]\n",
    "print username, password"
   ]
  },
  {
   "cell_type": "markdown",
   "metadata": {},
   "source": [
    "# POST TO https://gist.github.com via Python"
   ]
  },
  {
   "cell_type": "raw",
   "metadata": {},
   "source": [
    "AND --- at the same time insert into a SQLite database \n",
    "the filename , code and location on Gist.github is inserted into the database"
   ]
  },
  {
   "cell_type": "code",
   "execution_count": 6,
   "metadata": {},
   "outputs": [
    {
     "name": "stdout",
     "output_type": "stream",
     "text": [
      "https://gist.github.com/df011b4835fed21ddf219bdc2759fe4f \n",
      "49 \"\"\"\n",
      "Counts / compares the number of lines in two files. \n",
      "Usage: \n",
      "python countlines.py a.txt b.txt\n",
      "\n",
      "OR\n",
      "\n",
      "import countlines\n",
      "fname0 = 'a.txt' \n",
      "fname1 = 'b.txt'\n",
      "print len0(fname0),len1(fname1)\n",
      "\"\"\"\n",
      "import sys\n",
      "fname0 = sys.argv[1]\n",
      "fname1 = sys.argv[2]\n",
      "def len0(fname0):\n",
      "    with open(fname0) as f0:\n",
      "        for i0, l0 in enumerate(f0):\n",
      "            pass\n",
      "    return i0 + 1\n",
      "\n",
      "def len1(fname1):\n",
      "    with open(fname1) as f1:\n",
      "        for i1, l1 in enumerate(f1):\n",
      "            pass\n",
      "    return i1 + 1\n",
      "if __name__ == \"__main__\":\n",
      "    #fname0 = 'a.txt' \n",
      "    #fname1 = 'b.txt'\n",
      "    print len0(fname0),len1(fname1) https://gist.github.com/df011b4835fed21ddf219bdc2759fe4f countlines.py\n",
      "https://gist.github.com/df011b4835fed21ddf219bdc2759fe4f \n",
      "50 Index https://gist.github.com/df011b4835fed21ddf219bdc2759fe4f countlines.py\n"
     ]
    }
   ],
   "source": [
    "#%%writefile GISTstore/post2gist.py\n",
    "import os\n",
    "from time import sleep\n",
    "import sqlite3\n",
    "import os, requests, sys, json\n",
    "import GISTkey\n",
    "username=GISTkey.gistkey()[0]\n",
    "password=GISTkey.gistkey()[1]\n",
    "#database =\"GISTstore/gist.db\"\n",
    "database ='/home/jack/Desktop/PROCESSING/processing/GISTstore/gist.db'\n",
    "conn = sqlite3.connect(database)\n",
    "c = conn.cursor()\n",
    "c.execute(\"\"\"\n",
    "CREATE VIRTUAL TABLE IF NOT EXISTS gist \n",
    "USING FTS4(content, description, filename);\n",
    "\"\"\")\n",
    "c.close()\n",
    "conn.close()\n",
    "conn = sqlite3.connect(database)\n",
    "conn.text_factory=str \n",
    "c = conn.cursor()\n",
    "filename = \"countlines.py\"\n",
    "#PATH = \"GISTstore/\"\n",
    "#content=open(PATH+filename, 'r').read()\n",
    "content=open(filename, 'r').read()\n",
    "r = requests.post('https://api.github.com/gists',json.dumps({'files':{filename:{\"content\":content}}}),auth=requests.auth.HTTPBasicAuth(username, password)) \n",
    "sleep(2)\n",
    "Url= (r.json()['html_url'])\n",
    "c.execute(\"INSERT INTO gist VALUES (?,?,?)\", (content, Url, filename)) \n",
    "conn.commit()\n",
    "title = \"Index\"\n",
    "c.execute(\"INSERT INTO gist VALUES (?,?,?)\", (title, Url, filename)) \n",
    "conn.commit()\n",
    "for row in c.execute('SELECT rowid, content, description, filename FROM gist \\\n",
    "    WHERE filename MATCH ?', (filename,)):\n",
    "        print Url,\"\\n\",row[0],row[1],row[2],row[3]\n",
    "c.close()\n",
    "conn.close()"
   ]
  },
  {
   "cell_type": "markdown",
   "metadata": {},
   "source": [
    "# XXXXXXXXXXXXXXXXXXXXXXXXXXXXXXXX"
   ]
  },
  {
   "cell_type": "markdown",
   "metadata": {},
   "source": [
    "# Bonus Extra -------- Text to Voice "
   ]
  },
  {
   "cell_type": "markdown",
   "metadata": {},
   "source": [
    "# Working with Text to Speech  texttospeech TTS"
   ]
  },
  {
   "cell_type": "markdown",
   "metadata": {},
   "source": [
    "# CREATING TEXT FILES for Conversion"
   ]
  },
  {
   "cell_type": "code",
   "execution_count": 27,
   "metadata": {
    "collapsed": true
   },
   "outputs": [],
   "source": [
    "import os\n",
    "PATH = \"MP3\"\n",
    "if not os.path.exists(PATH):\n",
    "    os.makedirs(PATH)"
   ]
  },
  {
   "cell_type": "code",
   "execution_count": 28,
   "metadata": {},
   "outputs": [
    {
     "name": "stdout",
     "output_type": "stream",
     "text": [
      "/home/jack/Desktop/Processing/Processing/MP3\n"
     ]
    }
   ],
   "source": [
    "import dir2file\n",
    "PATH = \"MP3\"\n",
    "fullpath = dir2file.listpath(PATH)\n",
    "print fullpath"
   ]
  },
  {
   "cell_type": "code",
   "execution_count": 29,
   "metadata": {},
   "outputs": [
    {
     "name": "stdout",
     "output_type": "stream",
     "text": [
      "Writing MP3/TestText0.txt\n"
     ]
    }
   ],
   "source": [
    "%%writefile MP3/TestText0.txt\n",
    "This file is created in order to test my text to speech scripts.\n",
    "I am wanting to use text to speech and the Jupiter Notebook to create youtube video.\n",
    "Converting text to mp3 is quite easy, however to directly convert to sound is not as simple.\n"
   ]
  },
  {
   "cell_type": "code",
   "execution_count": 30,
   "metadata": {},
   "outputs": [
    {
     "name": "stdout",
     "output_type": "stream",
     "text": [
      "Writing MP3/TestText1.txt\n"
     ]
    }
   ],
   "source": [
    "%%writefile MP3/TestText1.txt\n",
    "The code I'am showing you, will insert a file into a ess-kyoo-ellite database. At the same time \n",
    "it will post to your gist location on github.\n"
   ]
  },
  {
   "cell_type": "code",
   "execution_count": 31,
   "metadata": {},
   "outputs": [
    {
     "name": "stdout",
     "output_type": "stream",
     "text": [
      "Writing MP3/TestText2.txt\n"
     ]
    }
   ],
   "source": [
    "%%writefile MP3/TestText2.txt\n",
    "First I will create a directory called giststore. Here I will store my database\n",
    "and the keys required to post on gist github.\n"
   ]
  },
  {
   "cell_type": "code",
   "execution_count": 32,
   "metadata": {},
   "outputs": [
    {
     "name": "stdout",
     "output_type": "stream",
     "text": [
      "Writing MP3/TestText3.txt\n"
     ]
    }
   ],
   "source": [
    "%%writefile MP3/TestText3.txt\n",
    "Create the initiate file in the giststore directory. \n",
    "In order to create a module slash directory with the ability to be imported it must have an initiate file.\n",
    "The file, even if empty, must exist. In this case, the file contains a comment showing the version."
   ]
  },
  {
   "cell_type": "markdown",
   "metadata": {},
   "source": [
    "# Convert the text to MP3 - using filename of the textfile"
   ]
  },
  {
   "cell_type": "code",
   "execution_count": 33,
   "metadata": {},
   "outputs": [
    {
     "name": "stdout",
     "output_type": "stream",
     "text": [
      "MP3/TestText3.txt.mp3\n"
     ]
    }
   ],
   "source": [
    "from gtts import gTTS\n",
    "import os\n",
    "filename = 'MP3/TestText3.txt'\n",
    "content=open(filename, 'r').read().decode(\"utf-8\", \"ignore\")\n",
    "tts = gTTS(text=content, lang='en')\n",
    "fileN = filename+\".mp3\"\n",
    "tts.save(fileN)\n",
    "print fileN"
   ]
  },
  {
   "cell_type": "markdown",
   "metadata": {},
   "source": [
    "# ------------- Playlists ------------ files and directories"
   ]
  },
  {
   "cell_type": "markdown",
   "metadata": {},
   "source": [
    "# Creating a Playlist"
   ]
  },
  {
   "cell_type": "code",
   "execution_count": 48,
   "metadata": {},
   "outputs": [
    {
     "name": "stdout",
     "output_type": "stream",
     "text": [
      "Overwriting GISTstore/MP3play.py\n"
     ]
    }
   ],
   "source": [
    "%%writefile GISTstore/MP3play.py\n",
    "def play():\n",
    "    mp3File0 = 'MP3/TestText0.txt.mp3'\n",
    "    mp3File1 = 'MP3/TestText1.txt.mp3'\n",
    "    mp3File2 = 'MP3/TestText2.txt.mp3'\n",
    "    mp3File3 = 'MP3/TestText2.txt.mp3'\n",
    "    mp3list = (mp3File0 ,mp3File1 ,mp3File2 ,mp3File3)\n",
    "    return mp3list"
   ]
  },
  {
   "cell_type": "markdown",
   "metadata": {},
   "source": [
    "# Using The Playlist"
   ]
  },
  {
   "cell_type": "code",
   "execution_count": 35,
   "metadata": {
    "collapsed": true
   },
   "outputs": [],
   "source": [
    "from GISTstore import Pmp3, MP3play\n",
    "first = MP3play.play()[0]\n",
    "second = MP3play.play()[1]\n",
    "third = MP3play.play()[2]\n",
    "forth = MP3play.play()[3]\n",
    "Pmp3.pmp3(first)"
   ]
  },
  {
   "cell_type": "code",
   "execution_count": 44,
   "metadata": {},
   "outputs": [
    {
     "name": "stdout",
     "output_type": "stream",
     "text": [
      "audio.mp3     good.mp3\ttest.mp3\t   TestText2.txt.mp3\r\n",
      "data.mp3      hek.mp3\tTestText0.txt.mp3  TestText3.txt.mp3\r\n",
      "data_mp3.mp3  play.mp3\tTestText1.txt.mp3  TestText.txt.mp3\r\n"
     ]
    }
   ],
   "source": [
    "!ls *.mp3"
   ]
  },
  {
   "cell_type": "code",
   "execution_count": 80,
   "metadata": {},
   "outputs": [
    {
     "name": "stdout",
     "output_type": "stream",
     "text": [
      "MP3/TestText0.txt.mp3\n",
      "MP3/TestText1.txt.mp3\n",
      "MP3/test.mp3\n",
      "MP3/TestText.txt.mp3\n",
      "MP3/TestText2.txt.mp3\n",
      "MP3/TestText3.txt.mp3\n",
      "MP3/audio.mp3\n",
      "MP3/good.mp3\n",
      "MP3/play.mp3\n"
     ]
    }
   ],
   "source": [
    "import os\n",
    "patH = \"MP3\"\n",
    "for file in os.listdir(patH):\n",
    "    if file.endswith(\".mp3\"):\n",
    "        print(os.path.join(patH, file))"
   ]
  },
  {
   "cell_type": "markdown",
   "metadata": {},
   "source": [
    "# Create a file with a directory listing of a specific ext"
   ]
  },
  {
   "cell_type": "code",
   "execution_count": null,
   "metadata": {
    "collapsed": true
   },
   "outputs": [],
   "source": [
    "import os\n",
    "import os.path\n",
    "title = \"MP3/MP3-list.list\"\n",
    "f= open(title,\"w\")\n",
    "f.close()\n",
    "count=0\n",
    "for dirpath, dirnames, filenames in os.walk(\"/home/jack/music/MP3/\"):\n",
    "    for filename in [f for f in filenames if f.endswith(\".mp3\")]:\n",
    "        count=count+1\n",
    "        Path = os.path.join(dirpath, filename)\n",
    "        with open(title, 'a') as outfile:\n",
    "            path = Path+\"\\n\"\n",
    "            outfile.write(path)"
   ]
  },
  {
   "cell_type": "markdown",
   "metadata": {},
   "source": [
    "# Using a list of paths in a file for SQLite data entry\n",
    "## Creating a database and inserting binaries"
   ]
  },
  {
   "cell_type": "code",
   "execution_count": 101,
   "metadata": {},
   "outputs": [
    {
     "name": "stdout",
     "output_type": "stream",
     "text": [
      "Creating schema\n"
     ]
    }
   ],
   "source": [
    "def create_or_open_db(db_file):\n",
    "    db_is_new = not os.path.exists(db_file)\n",
    "    conn = sqlite3.connect(db_file)\n",
    "    if db_is_new:\n",
    "        print 'Creating schema'\n",
    "        sql = '''create table if not exists Binaries(\n",
    "        ID INTEGER PRIMARY KEY AUTOINCREMENT,\n",
    "        binaryD BLOB,\n",
    "        TYPE TEXT,\n",
    "        FILE_NAME TEXT);'''\n",
    "        conn.execute(sql) # shortcut for conn.cursor().execute(sql)\n",
    "    else:\n",
    "        print 'Schema exists\\n'\n",
    "    return conn\n",
    "\n",
    "def insert_binary(conn):\n",
    "    titlelist = \"MP3/MP3-list.list\"\n",
    "    titles = open(titlelist,\"r\")\n",
    "    for title in titles.readlines():\n",
    "        title = title.replace(\"\\n\",\"\")\n",
    "        filename = os.path.basename(title)\n",
    "        with open(title, 'rb') as input_file:\n",
    "            ablob = input_file.read()\n",
    "            base=os.path.basename(title)\n",
    "            afile, ext = os.path.splitext(base)\n",
    "            sql = '''INSERT INTO Binaries\n",
    "            (binaryD, TYPE, FILE_NAME)\n",
    "            VALUES(?, ?, ?);'''\n",
    "            conn.execute(sql,[sqlite3.Binary(ablob), ext, afile]) \n",
    "            conn.commit()\n",
    "conn = create_or_open_db('MP3/junk2.db')\n",
    "insert_binary(conn)"
   ]
  },
  {
   "cell_type": "code",
   "execution_count": 25,
   "metadata": {},
   "outputs": [],
   "source": [
    "!cp Post_To_Gist.ipynb /home/jack/Desktop/JupyterNotebook-Audio\n"
   ]
  },
  {
   "cell_type": "code",
   "execution_count": 43,
   "metadata": {},
   "outputs": [
    {
     "name": "stdout",
     "output_type": "stream",
     "text": [
      "Writing GISTstore/music.list\n"
     ]
    }
   ],
   "source": [
    "%%writefile GISTstore/music.list\n",
    "/home/jack/Desktop/Processing/Processing/MP3/audio.mp3\n",
    "/home/jack/Desktop/Processing/Processing/MP3/test.mp3\n",
    "/home/jack/Desktop/Processing/Processing/MP3/play.mp3\n",
    "/home/jack/Desktop/Processing/Processing/MP3/TestText2.txt.mp3\n",
    "/home/jack/Desktop/Processing/Processing/MP3/TestText1.txt.mp3\n",
    "/home/jack/Desktop/Processing/Processing/MP3/TestText.txt.mp3\n",
    "/home/jack/Desktop/Processing/Processing/MP3/TestText0.txt.mp3\n",
    "/home/jack/Desktop/Processing/Processing/MP3/TestText3.txt.mp3"
   ]
  },
  {
   "cell_type": "markdown",
   "metadata": {},
   "source": []
  },
  {
   "cell_type": "code",
   "execution_count": null,
   "metadata": {
    "collapsed": true
   },
   "outputs": [],
   "source": [
    "titlelist = \"GISTstore/music.list\"\n",
    "titles = open(titlelist,\"r\")\n",
    "for title in titles.readlines():\n",
    "    filename = os.path.basename(title)\n",
    "    # Use for debug print filename,\":\"\n",
    "    description = filename\n",
    "    description = description.replace(\"-\", \" \")\n",
    "    description = description.replace(\"_\", \" \")\n",
    "    description = description.replace(\".ipynb\", \" \")\n",
    "    description = re.sub(\"([a-z])([A-Z])\",\"\\g<1> \\g<2>\",description)\n",
    "    title = title.replace(\"\\n\", \"\")"
   ]
  },
  {
   "cell_type": "code",
   "execution_count": 41,
   "metadata": {},
   "outputs": [
    {
     "name": "stdout",
     "output_type": "stream",
     "text": [
      "['TestText0.txt.mp3', 'TestText1.txt.mp3', 'test.mp3', 'hek.mp3', 'music.db', 'TestText.txt.mp3', 'TestText2.txt.mp3', 'TestText3.txt.mp3', 'data_mp3.mp3', 'audio.mp3', 'good.mp3', 'play.mp3']\n"
     ]
    }
   ],
   "source": [
    "print picture_list"
   ]
  },
  {
   "cell_type": "code",
   "execution_count": 25,
   "metadata": {
    "collapsed": true
   },
   "outputs": [],
   "source": [
    "#!rm GISTstore/music.db"
   ]
  },
  {
   "cell_type": "code",
   "execution_count": 29,
   "metadata": {},
   "outputs": [
    {
     "name": "stdout",
     "output_type": "stream",
     "text": [
      "TestText3.txt.mp3\n"
     ]
    }
   ],
   "source": [
    "import sqlite3\n",
    "def extract_picture(cursor, picture_id):\n",
    "    sql = \"SELECT PICTURE, TYPE, FILE_NAME FROM PICTURES WHERE id = :id\"\n",
    "    param = {'id': picture_id}\n",
    "    cursor.execute(sql, param)\n",
    "    ablob, ext, afile = cursor.fetchone()\n",
    "    filename = afile + ext\n",
    "    with open(filename, 'wb') as output_file:\n",
    "        output_file.write(ablob)\n",
    "    return filename\n",
    "\n",
    "conn = sqlite3.connect('MP3/music.db')\n",
    "cur = conn.cursor()\n",
    "filename = extract_picture(cur, 1)\n",
    "cur.close()\n",
    "conn.close()\n",
    "print filename\n",
    "from GISTstore import Pmp3\n",
    "Pmp3.pmp3(filename)"
   ]
  },
  {
   "cell_type": "code",
   "execution_count": 39,
   "metadata": {},
   "outputs": [
    {
     "name": "stdout",
     "output_type": "stream",
     "text": [
      "Overwriting dbINFO.py\n"
     ]
    }
   ],
   "source": [
    "%%writefile dbINFO.py\n",
    "\"\"\"\n",
    "Gets tablename and column names from unknown database\n",
    "just enter database name.\n",
    "USAGE:\n",
    "import dbINFO\n",
    "database= \"databases/history.db\"\n",
    "#database= \"databases/sat2.db\"\n",
    "#database= \"databases/ImageD.db\"\n",
    "dbINFO.dbinfo(database)\n",
    "\"\"\"\n",
    "\n",
    "import sqlite3\n",
    "def dbinfo(database):\n",
    "    conn = sqlite3.connect(database)\n",
    "    conn.text_factory = str\n",
    "    c = conn.cursor()\n",
    "    res = c.execute(\"SELECT name FROM sqlite_master WHERE type='table';\")\n",
    "    row = c.fetchone()\n",
    "    row = str(row)\n",
    "    row = row.replace(\"(\",\"\");row = row.replace(\",)\",\"\")\n",
    "    row = row.replace(\"'\",\"\")\n",
    "    print row\n",
    "    cur = c.execute(\"select * from \\\"%s\\\"\" %  row)\n",
    "    columns = [description[0] for description in cur.description]\n",
    "    return columns\n",
    "\n",
    "# if run directly\n",
    "#database = \"databases/history.db\"\n",
    "#dbinfo(database)\n"
   ]
  },
  {
   "cell_type": "code",
   "execution_count": 42,
   "metadata": {},
   "outputs": [
    {
     "name": "stdout",
     "output_type": "stream",
     "text": [
      "PICTURES\n"
     ]
    },
    {
     "data": {
      "text/plain": [
       "['ID', 'PICTURE', 'TYPE', 'FILE_NAME']"
      ]
     },
     "execution_count": 42,
     "metadata": {},
     "output_type": "execute_result"
    }
   ],
   "source": [
    "import dbINFO\n",
    "database = '/home/jack/Desktop/JupyterNotebook-Audio/MP3/music.db'\n",
    "dbINFO.dbinfo(database)"
   ]
  },
  {
   "cell_type": "code",
   "execution_count": 43,
   "metadata": {},
   "outputs": [
    {
     "name": "stdout",
     "output_type": "stream",
     "text": [
      "1\n",
      "2\n",
      "3\n",
      "4\n",
      "5\n",
      "6\n",
      "7\n",
      "8\n",
      "9\n",
      "10\n"
     ]
    }
   ],
   "source": [
    "import sqlite3\n",
    "database = '/home/jack/Desktop/JupyterNotebook-Audio/MP3/music.db'\n",
    "conn = sqlite3.connect(database)\n",
    "conn.text_factory=str \n",
    "c = conn.cursor()\n",
    "#rows = c.execute(\"SELECT rowid, PICTURE, TYPE, FILE_NAME FROM PICTURES WHERE id = :id\")\n",
    "rows = c.execute(\"SELECT rowid, PICTURE, TYPE, FILE_NAME FROM PICTURES\")\n",
    "for row in rows:\n",
    "    print row[0]\n"
   ]
  },
  {
   "cell_type": "code",
   "execution_count": 26,
   "metadata": {},
   "outputs": [],
   "source": [
    "!cp /home/jack/Desktop/JupyterNotebook-Gist/GISTstore/Pmp3.py /home/jack/Desktop/JupyterNotebook-Audio"
   ]
  },
  {
   "cell_type": "code",
   "execution_count": 31,
   "metadata": {
    "scrolled": true
   },
   "outputs": [
    {
     "name": "stdout",
     "output_type": "stream",
     "text": [
      "abs_path = /home/jack/Desktop/Processing/Processing/MP3/\n",
      "Schema exists\n",
      "\n"
     ]
    }
   ],
   "source": [
    "import sqlite3\n",
    "import os.path\n",
    "from os import listdir, getcwd\n",
    "def get_binaries(rel_path):\n",
    "    abs_path = os.path.join(os.getcwd(),rel_path)\n",
    "    print 'abs_path =', abs_path\n",
    "    dir_files = os.listdir(abs_path)\n",
    "    #print dir_files\n",
    "    return dir_files\n",
    "binary_list = get_binaries('MP3/')\n",
    "\n",
    "def create_or_open_db(db_file):\n",
    "    db_is_new = not os.path.exists(db_file)\n",
    "    conn = sqlite3.connect(db_file)\n",
    "    if db_is_new:\n",
    "        print 'Creating schema'\n",
    "        sql = '''create table if not exists Binaries(\n",
    "        ID INTEGER PRIMARY KEY AUTOINCREMENT,\n",
    "        binaryD BLOB,\n",
    "        TYPE TEXT,\n",
    "        FILE_NAME TEXT);'''\n",
    "        conn.execute(sql) # shortcut for conn.cursor().execute(sql)\n",
    "    else:\n",
    "        print 'Schema exists\\n'\n",
    "    return conn\n",
    "def insert_picture(conn, binary_file):\n",
    "    with open(binary_file, 'rb') as input_file:\n",
    "        ablob = input_file.read()\n",
    "        base=os.path.basename(binary_file)\n",
    "        afile, ext = os.path.splitext(base)\n",
    "        sql = '''INSERT INTO Binaries\n",
    "        (binaryD, TYPE, FILE_NAME)\n",
    "        VALUES(?, ?, ?);'''\n",
    "        conn.execute(sql,[sqlite3.Binary(ablob), ext, afile]) \n",
    "        conn.commit()\n",
    "\n"
   ]
  },
  {
   "cell_type": "code",
   "execution_count": 42,
   "metadata": {
    "collapsed": true
   },
   "outputs": [],
   "source": [
    "from time import sleep\n",
    "from GISTstore import Pmp3\n",
    "mp3File1 = 'TestText3.txt.mp3'\n",
    "Pmp3.pmp3(mp3File1)"
   ]
  },
  {
   "cell_type": "code",
   "execution_count": 15,
   "metadata": {
    "collapsed": true
   },
   "outputs": [],
   "source": [
    "from time import sleep\n",
    "from GISTstore import Pmp3\n",
    "mp3File0 = 'TestText0.txt.mp3'\n",
    "Pmp3.pmp3(mp3File0)\n",
    "sleep(1)\n",
    "mp3File1 = 'TestText1.txt.mp3'\n",
    "Pmp3.pmp3(mp3File1)"
   ]
  },
  {
   "cell_type": "code",
   "execution_count": null,
   "metadata": {
    "collapsed": true
   },
   "outputs": [],
   "source": [
    "from gtts import gTTS\n",
    "import os\n",
    "sd =open('/home/jack/Desktop/text_stuff/Wiki_HistoryofEarth.txt', 'r')\n",
    "rd = sd.read().decode(\"utf-8\", \"ignore\")\n",
    "tts = gTTS(text=rd, lang='en')\n",
    "tts.save(\"good.mp3\")\n",
    "os.system(\"mpg321 good.mp3\")"
   ]
  },
  {
   "cell_type": "code",
   "execution_count": 76,
   "metadata": {},
   "outputs": [
    {
     "name": "stdout",
     "output_type": "stream",
     "text": [
      "audio.mp3  good.mp3  hek.mp3  hello.mp3  play.mp3  test.mp3  TestText.txt.mp3\r\n"
     ]
    }
   ],
   "source": [
    "!ls *.mp3"
   ]
  },
  {
   "cell_type": "code",
   "execution_count": 4,
   "metadata": {},
   "outputs": [
    {
     "name": "stdout",
     "output_type": "stream",
     "text": [
      "Overwriting GISTstore/Pmp3.py\n"
     ]
    }
   ],
   "source": [
    "%%writefile GISTstore/Pmp3.py\n",
    "import pyglet\n",
    "def exit_callback(dt):\n",
    "    pyglet.app.exit()\n",
    "    return\n",
    "def pmp3(mp3File):\n",
    "    music = pyglet.media.load(mp3File)\n",
    "    music.play()\n",
    "    pyglet.clock.schedule_once(exit_callback , music.duration)\n",
    "    pyglet.app.run()\n",
    "    return"
   ]
  },
  {
   "cell_type": "code",
   "execution_count": 1,
   "metadata": {
    "collapsed": true
   },
   "outputs": [],
   "source": [
    "from GISTstore import Pmp3\n",
    "mp3File = 'audio.mp3'\n",
    "Pmp3.pmp3(mp3File)"
   ]
  },
  {
   "cell_type": "code",
   "execution_count": 11,
   "metadata": {},
   "outputs": [
    {
     "name": "stdout",
     "output_type": "stream",
     "text": [
      "Help on function schedule_once in module pyglet.clock:\n",
      "\n",
      "schedule_once(func, delay, *args, **kwargs)\n",
      "    Schedule 'func' to be called once after 'delay' seconds (can be\n",
      "    a float) on the default clock.  The arguments passed to 'func' are\n",
      "    'dt' (time since last function call), followed by any ``*args`` and\n",
      "    ``**kwargs`` given here.\n",
      "    \n",
      "    If no default clock is set, the func is queued and will be scheduled\n",
      "    on the default clock as soon as it is created.\n",
      "    \n",
      "    :Parameters:\n",
      "        `func` : function\n",
      "            The function to call when the timer lapses.\n",
      "        `delay` : float\n",
      "            The number of seconds to wait before the timer lapses.\n",
      "\n"
     ]
    }
   ],
   "source": [
    "help(pyglet.clock.schedule_once)"
   ]
  },
  {
   "cell_type": "markdown",
   "metadata": {},
   "source": [
    "# get mp3 length"
   ]
  },
  {
   "cell_type": "code",
   "execution_count": 24,
   "metadata": {},
   "outputs": [
    {
     "name": "stdout",
     "output_type": "stream",
     "text": [
      "17.424\n"
     ]
    }
   ],
   "source": [
    "from mutagen.mp3 import MP3\n",
    "audio = MP3(\"TestText.txt.mp3\")\n",
    "print audio.info.length"
   ]
  },
  {
   "cell_type": "code",
   "execution_count": 30,
   "metadata": {
    "collapsed": true
   },
   "outputs": [],
   "source": [
    "from GISTstore import Pmp3\n",
    "mp3File = 'audio.mp3'\n",
    "Pmp3.pmp3(mp3File)"
   ]
  },
  {
   "cell_type": "code",
   "execution_count": 31,
   "metadata": {
    "collapsed": true
   },
   "outputs": [],
   "source": [
    "from GISTstore import Pmp3\n",
    "mp3File = 'TestText.txt.mp3'\n",
    "Pmp3.pmp3(mp3File)"
   ]
  },
  {
   "cell_type": "code",
   "execution_count": 32,
   "metadata": {
    "collapsed": true
   },
   "outputs": [],
   "source": [
    "import pyglet\n",
    "music = pyglet.media.load('TestText.txt.mp3')\n",
    "music.play()\n",
    "def exit_callback(dt):\n",
    "    pyglet.app.exit()\n",
    "pyglet.clock.schedule_once(exit_callback , music.duration)\n",
    "pyglet.app.run()"
   ]
  },
  {
   "cell_type": "code",
   "execution_count": 13,
   "metadata": {},
   "outputs": [
    {
     "name": "stdout",
     "output_type": "stream",
     "text": [
      "Overwriting MP3play.py\n"
     ]
    }
   ],
   "source": [
    "%%writefile MP3play.py\n",
    "\"\"\"\n",
    "MP3 playlist created to be used in syncing an audio/slide program .\n",
    "Usage:\n",
    "for example to load the 'TestText2.txt.mp3'\n",
    "import MP3play\n",
    "sound_file = MP3play.play()[2]\n",
    "\"\"\"\n",
    "def play():\n",
    "    mp3File0 = 'TestText0.txt.mp3'\n",
    "    mp3File1 = 'TestText1.txt.mp3'\n",
    "    mp3File2 = 'TestText2.txt.mp3'\n",
    "    mp3File3 = 'TestText2.txt.mp3'\n",
    "    mp3list = (mp3File0 ,mp3File1 ,mp3File2 ,mp3File3)\n",
    "    return mp3list\n",
    "\n",
    "    "
   ]
  },
  {
   "cell_type": "code",
   "execution_count": 34,
   "metadata": {},
   "outputs": [
    {
     "name": "stdout",
     "output_type": "stream",
     "text": [
      "TestText2.txt.mp3\n"
     ]
    }
   ],
   "source": [
    "import MP3play\n",
    "print MP3play.play()[2]"
   ]
  },
  {
   "cell_type": "markdown",
   "metadata": {},
   "source": [
    "# USING pyttsx and gTTS TEXT TO SPEECH "
   ]
  },
  {
   "cell_type": "code",
   "execution_count": 19,
   "metadata": {
    "collapsed": true
   },
   "outputs": [],
   "source": [
    "from gtts import gTTS\n",
    "sd =open('/home/jack/Desktop/text_stuff/hek.txt', 'r')\n",
    "rd = sd.read().decode(\"utf-8\", \"ignore\")\n",
    "tts=gTTS(rd ,lang='en')\n",
    "tts.save(\"hek.mp3\")"
   ]
  },
  {
   "cell_type": "code",
   "execution_count": 10,
   "metadata": {
    "collapsed": true
   },
   "outputs": [],
   "source": [
    "import pyttsx\n",
    "engine = pyttsx.init()\n",
    "voices = engine.getProperty('voices')\n",
    "engine.setProperty('voice', 'en-scottish')\n",
    "engine.say('The quick brown fox jumped over the lazy dog.')\n",
    "engine.runAndWait()"
   ]
  },
  {
   "cell_type": "code",
   "execution_count": 10,
   "metadata": {},
   "outputs": [
    {
     "name": "stdout",
     "output_type": "stream",
     "text": [
      "cantonese\n"
     ]
    }
   ],
   "source": [
    "import pyttsx\n",
    "engine = pyttsx.init()\n",
    "voices = engine.getProperty('voices')\n",
    "engine.setProperty('voice', 'english_rp')\n",
    "print voice.id\n",
    "engine.say('The quick brown fox jumped over the lazy dog.')\n",
    "engine.runAndWait()"
   ]
  },
  {
   "cell_type": "code",
   "execution_count": 11,
   "metadata": {
    "collapsed": true
   },
   "outputs": [],
   "source": [
    "import pyttsx\n",
    "engine = pyttsx.init()\n",
    "#voices = engine.getProperty('voices')\n",
    "#engine.setProperty('voice', 'english_rp')\n",
    "#print voice.id\n",
    "engine.say('The quick brown fox jumped over the lazy dog.')\n",
    "engine.runAndWait()"
   ]
  },
  {
   "cell_type": "code",
   "execution_count": null,
   "metadata": {
    "collapsed": true
   },
   "outputs": [],
   "source": [
    "import pyttsx\n",
    "engine = pyttsx.init()\n",
    "voices = engine.getProperty('voices')\n",
    "for voice in voices:\n",
    "    engine.setProperty('voice', voice.id)\n",
    "    print voice.id\n",
    "    engine.say('The quick brown fox jumped over the lazy dog.')\n",
    "engine.runAndWait()"
   ]
  },
  {
   "cell_type": "code",
   "execution_count": 6,
   "metadata": {
    "collapsed": true
   },
   "outputs": [],
   "source": [
    "import pyttsx\n",
    "engine = pyttsx.init()\n",
    "rate = engine.getProperty('rate')\n",
    "engine.setProperty('rate', rate-30)\n",
    "engine.say('The quick brown fox jumped over the lazy dog.')\n",
    "engine.runAndWait()"
   ]
  },
  {
   "cell_type": "code",
   "execution_count": 114,
   "metadata": {},
   "outputs": [
    {
     "name": "stdout",
     "output_type": "stream",
     "text": [
      "index-PDE2db.txt  ipynb_list.txt  readthis.txt\t TestText1.txt\tTestText.txt\r\n",
      "indexPDE2db.txt   new_titles.txt  storejson.txt  TestText2.txt\r\n",
      "index.txt\t  nov04.txt\t  TestText0.txt  TestText3.txt\r\n"
     ]
    }
   ],
   "source": [
    "!ls *.txt"
   ]
  },
  {
   "cell_type": "code",
   "execution_count": 8,
   "metadata": {
    "collapsed": true
   },
   "outputs": [],
   "source": [
    "import pyttsx\n",
    "engine = pyttsx.init()\n",
    "engine.setProperty('rate', rate-30)\n",
    "words = open(\"voice.txt\").read()\n",
    "engine.say(words)\n",
    "engine.runAndWait()\n",
    "del engine"
   ]
  },
  {
   "cell_type": "code",
   "execution_count": null,
   "metadata": {
    "collapsed": true
   },
   "outputs": [],
   "source": []
  },
  {
   "cell_type": "code",
   "execution_count": 7,
   "metadata": {
    "collapsed": true
   },
   "outputs": [],
   "source": [
    "del engine"
   ]
  },
  {
   "cell_type": "code",
   "execution_count": 1,
   "metadata": {
    "collapsed": true
   },
   "outputs": [],
   "source": [
    "import pyttsx\n",
    "engine = pyttsx.init()\n",
    "engine.say('Sally sells seashells by the seashore.')\n",
    "engine.say('The quick brown fox jumped over the lazy dog.')\n",
    "engine.runAndWait()"
   ]
  },
  {
   "cell_type": "code",
   "execution_count": null,
   "metadata": {
    "collapsed": true
   },
   "outputs": [],
   "source": [
    "engine = pyttsx.init()\n",
    "voices = engine.getProperty('voices')\n",
    "for voice in voices:\n",
    "    engine.setProperty('voice', voice.id)\n",
    "    engine.say('The quick brown fox jumped over the lazy dog.')\n",
    "engine.runAndWait()"
   ]
  },
  {
   "cell_type": "code",
   "execution_count": 1,
   "metadata": {},
   "outputs": [
    {
     "name": "stdout",
     "output_type": "stream",
     "text": [
      "Help on module pyttsx.voice in pyttsx:\n",
      "\n",
      "NAME\n",
      "    pyttsx.voice - Voice metadata definition.\n",
      "\n",
      "FILE\n",
      "    /home/jack/Desktop/Processing/Processing/pyttsx/voice.py\n",
      "\n",
      "DESCRIPTION\n",
      "    Copyright (c) 2009, 2013 Peter Parente\n",
      "    \n",
      "    Permission to use, copy, modify, and distribute this software for any\n",
      "    purpose with or without fee is hereby granted, provided that the above\n",
      "    copyright notice and this permission notice appear in all copies.\n",
      "    \n",
      "    THE SOFTWARE IS PROVIDED \"AS IS\" AND THE AUTHOR DISCLAIMS ALL WARRANTIES\n",
      "    WITH REGARD TO THIS SOFTWARE INCLUDING ALL IMPLIED WARRANTIES OF\n",
      "    MERCHANTABILITY AND FITNESS. IN NO EVENT SHALL THE AUTHOR BE LIABLE FOR\n",
      "    ANY SPECIAL, DIRECT, INDIRECT, OR CONSEQUENTIAL DAMAGES OR ANY DAMAGES\n",
      "    WHATSOEVER RESULTING FROM LOSS OF USE, DATA OR PROFITS, WHETHER IN AN\n",
      "    ACTION OF CONTRACT, NEGLIGENCE OR OTHER TORTIOUS ACTION, ARISING OUT OF\n",
      "    OR IN CONNECTION WITH THE USE OR PERFORMANCE OF THIS SOFTWARE.\n",
      "\n",
      "CLASSES\n",
      "    __builtin__.object\n",
      "        Voice\n",
      "    \n",
      "    class Voice(__builtin__.object)\n",
      "     |  Methods defined here:\n",
      "     |  \n",
      "     |  __init__(self, id, name=None, languages=[], gender=None, age=None)\n",
      "     |  \n",
      "     |  __str__(self)\n",
      "     |  \n",
      "     |  ----------------------------------------------------------------------\n",
      "     |  Data descriptors defined here:\n",
      "     |  \n",
      "     |  __dict__\n",
      "     |      dictionary for instance variables (if defined)\n",
      "     |  \n",
      "     |  __weakref__\n",
      "     |      list of weak references to the object (if defined)\n",
      "\n",
      "\n"
     ]
    }
   ],
   "source": [
    "from pyttsx import voice\n",
    "help(voice)"
   ]
  },
  {
   "cell_type": "code",
   "execution_count": 5,
   "metadata": {},
   "outputs": [
    {
     "name": "stdout",
     "output_type": "stream",
     "text": [
      "Help on method getProperty in module pyttsx.engine:\n",
      "\n",
      "getProperty(self, name) method of pyttsx.engine.Engine instance\n",
      "    Gets the current value of a property. Valid names and values include:\n",
      "    \n",
      "    voices: List of L{voice.Voice} objects supported by the driver\n",
      "    voice: String ID of the current voice\n",
      "    rate: Integer speech rate in words per minute\n",
      "    volume: Floating point volume of speech in the range [0.0, 1.0]\n",
      "    \n",
      "    Numeric values outside the valid range supported by the driver are\n",
      "    clipped.\n",
      "    \n",
      "    @param name: Name of the property to fetch\n",
      "    @type name: str\n",
      "    @return: Value associated with the property\n",
      "    @rtype: object\n",
      "    @raise KeyError: When the property name is unknown\n",
      "\n"
     ]
    }
   ],
   "source": [
    "import pyttsx\n",
    "engine = pyttsx.init()\n",
    "voices = engine.getProperty('voices')\n",
    "help(engine.getProperty)"
   ]
  },
  {
   "cell_type": "code",
   "execution_count": 7,
   "metadata": {
    "collapsed": true
   },
   "outputs": [],
   "source": [
    "import pyttsx\n",
    "engine = pyttsx.init()\n",
    "voices = engine.getProperty('voices')\n",
    "for voice in voices:\n",
    "    engine.setProperty('voice', voice.id)\n",
    "    engine.say('The quick brown fox jumped over the lazy dog.')\n",
    "engine.runAndWait()"
   ]
  },
  {
   "cell_type": "code",
   "execution_count": 23,
   "metadata": {
    "scrolled": true
   },
   "outputs": [
    {
     "name": "stdout",
     "output_type": "stream",
     "text": [
      "index-PDE2db.txt  indexPDE2db.txt  index.txt  nov04.txt  readthis.txt\r\n"
     ]
    }
   ],
   "source": [
    "!ls *.txt"
   ]
  },
  {
   "cell_type": "code",
   "execution_count": 12,
   "metadata": {},
   "outputs": [
    {
     "name": "stdout",
     "output_type": "stream",
     "text": [
      "Help on class gTTS in module gtts.tts:\n",
      "\n",
      "class gTTS\n",
      " |  gTTS (Google Text to Speech): an interface to Google's Text to Speech API\n",
      " |  \n",
      " |  Methods defined here:\n",
      " |  \n",
      " |  __init__(self, text, lang='en', slow=False, debug=False)\n",
      " |  \n",
      " |  save(self, savefile)\n",
      " |      Do the Web request and save to `savefile`\n",
      " |  \n",
      " |  write_to_fp(self, fp)\n",
      " |      Do the Web request and save to a file-like object\n",
      " |  \n",
      " |  ----------------------------------------------------------------------\n",
      " |  Data and other attributes defined here:\n",
      " |  \n",
      " |  GOOGLE_TTS_URL = 'https://translate.google.com/translate_tts'\n",
      " |  \n",
      " |  LANGUAGES = {'af': 'Afrikaans', 'ar': 'Arabic', 'bn': 'Bengali', 'ca':...\n",
      " |  \n",
      " |  MAX_CHARS = 100\n",
      " |  \n",
      " |  Speed = <class gtts.tts.Speed>\n",
      "\n"
     ]
    }
   ],
   "source": [
    "from gtts import gTTS\n",
    "gTTS()"
   ]
  },
  {
   "cell_type": "markdown",
   "metadata": {},
   "source": [
    "http://pyttsx.readthedocs.io/en/latest/engine.html#changing-voices"
   ]
  },
  {
   "cell_type": "code",
   "execution_count": 43,
   "metadata": {},
   "outputs": [
    {
     "name": "stdout",
     "output_type": "stream",
     "text": [
      "Overwriting GISTstore/GISTkey.py\n"
     ]
    }
   ],
   "source": [
    "%%writefile GISTstore/GISTkey.py\n",
    "# USE:\n",
    "#import GISTkey\n",
    "#username=GISTkey.gist()[0]\n",
    "#password=GISTkey.gist()[1]\n",
    "def gist():\n",
    "    username='username'\n",
    "    password=\"password\"\n",
    "    GistKEY = (username, password)\n",
    "    return GistKEY"
   ]
  },
  {
   "cell_type": "code",
   "execution_count": 45,
   "metadata": {},
   "outputs": [
    {
     "name": "stdout",
     "output_type": "stream",
     "text": [
      "Schema exists\n",
      "\n"
     ]
    }
   ],
   "source": [
    "def insert_binary(conn, binary_file):\n",
    "    titlelist = \"GISTstore/music.list\"\n",
    "    titles = open(titlelist,\"r\")\n",
    "    for title in titles.readlines():\n",
    "        title = title.replace(\"\\n\",\"\")\n",
    "        filename = os.path.basename(title)\n",
    "        with open(title, 'rb') as input_file:\n",
    "            ablob = input_file.read()\n",
    "            base=os.path.basename(title)\n",
    "            afile, ext = os.path.splitext(base)\n",
    "            sql = '''INSERT INTO PICTURES\n",
    "            (PICTURE, TYPE, FILE_NAME)\n",
    "            VALUES(?, ?, ?);'''\n",
    "            conn.execute(sql,[sqlite3.Binary(ablob), ext, afile]) \n",
    "            conn.commit()\n",
    "conn = create_or_open_db('MP3/junk.db')\n",
    "insert_binary(conn, binary_file)"
   ]
  },
  {
   "cell_type": "code",
   "execution_count": 66,
   "metadata": {},
   "outputs": [
    {
     "name": "stdout",
     "output_type": "stream",
     "text": [
      "Overwriting GISTstore/SimpleGistPost.py\n"
     ]
    }
   ],
   "source": [
    "%%writefile GISTstore/SimpleGistPost.py\n",
    "#!/usr/bin/python\n",
    "#USE: python SimpleGistPost.py FileToPost.py\n",
    "import os, requests, sys, json\n",
    "import GISTkey\n",
    "from time import sleep\n",
    "username=GISTkey.gistkey()[0]\n",
    "password=GISTkey.gistkey()[1]\n",
    "filename = os.path.basename(sys.argv[1])\n",
    "content=open(filename, 'r').read()\n",
    "r = requests.post('https://api.github.com/gists',json.dumps({'files':{filename:{\"content\":content}}}),auth=requests.auth.HTTPBasicAuth(username, password)) \n",
    "sleep(2)\n",
    "print(r.json()['html_url'])\n"
   ]
  },
  {
   "cell_type": "markdown",
   "metadata": {},
   "source": [
    "# SNIPPET STORAGE "
   ]
  },
  {
   "cell_type": "code",
   "execution_count": 45,
   "metadata": {},
   "outputs": [],
   "source": [
    "import sqlite3\n",
    "import re\n",
    "import sys\n",
    "import time\n",
    "database = \"snippet.db\"\n",
    "conn = sqlite3.connect(database)\n",
    "conn.text_factory = lambda x: unicode(x, \"utf-8\", \"ignore\")\n",
    "c = conn.cursor()\n",
    "c.execute(\"\"\"\n",
    "CREATE VIRTUAL TABLE IF NOT EXISTS snippets \n",
    "USING FTS4(snippet);\n",
    "\"\"\")\n",
    "conn.commit()\n",
    "conn.close()\n",
    "conn = sqlite3.connect(database)\n",
    "c = conn.cursor()"
   ]
  },
  {
   "cell_type": "code",
   "execution_count": 61,
   "metadata": {},
   "outputs": [],
   "source": [
    "import sqlite3\n",
    "import base64\n",
    "conn = sqlite3.connect('snippet.db') \n",
    "c = conn.cursor()\n",
    "conn.text_factory = str\n",
    "\n",
    "snippet = \"\"\"\n",
    "ignore numpy size warnings\n",
    "import warnings\n",
    "warnings.filterwarnings('ignore', message='numpy.dtype size changed')\n",
    "\"\"\"\n",
    "\n",
    "c.execute(\"INSERT INTO snippets VALUES (?)\", (snippet,))\n",
    "conn.commit()\n",
    "conn.close()"
   ]
  },
  {
   "cell_type": "code",
   "execution_count": 62,
   "metadata": {},
   "outputs": [
    {
     "name": "stdout",
     "output_type": "stream",
     "text": [
      "Search : warnings\n",
      "ID :  15 \n",
      "ignore numpy size warnings\n",
      "import warnings\n",
      "warnings.filterwarnings('ignore', message='numpy.dtype size changed')\n",
      "\n",
      "\n"
     ]
    }
   ],
   "source": [
    "import sqlite3\n",
    "import sys\n",
    "conn = sqlite3.connect('snippet.db')\n",
    "conn.text_factory = str\n",
    "c = conn.cursor()\n",
    "count=0;req=200\n",
    "search = raw_input(\"Search : \")\n",
    "for row in c.execute('SELECT rowid, * FROM snippets WHERE snippet MATCH ?', (search,)):\n",
    "    count=count+1\n",
    "    print \"ID : \",(row)[0],(row)[1],\"\\n\"\n",
    "    if count > req:\n",
    "        conn.close()\n",
    "        sys.exit()"
   ]
  },
  {
   "cell_type": "code",
   "execution_count": 59,
   "metadata": {},
   "outputs": [
    {
     "name": "stdout",
     "output_type": "stream",
     "text": [
      "\n",
      "strcleaned = ''.join([x for x in strtoclean if ord(x) < 128])\n",
      "----------\n",
      "clean code unicode clean ascii 8 byte unicode error can not decode over 128 decose encode problems\n",
      "code error encode error can not decode\n",
      "\n",
      "\n",
      "delimiters = ['\\n', ' ', ',', '.', '?', '!', ':', 'and_what_else_you_need']\n",
      "words = content\n",
      "for delimiter in delimiters:\n",
      "    new_words = []\n",
      "    for word in words:\n",
      "        new_words += word.split(delimiter)\n",
      "    words = new_words\n",
      "\n",
      "\n",
      "def insert_info(store):\n",
      "    with sqlite3.connect(\"misc.db\") as db:\n",
      "        #use a text_factory that can interpret 8-bit bytestrings \n",
      "        db.text_factory = str\n",
      "        cursor = db.cursor()\n",
      "        #db.text_factory = str\n",
      "        sql = \"insert into storeit (data0, data1, data2) values (?, ?, ?)\"\n",
      "        cursor.execute(sql, store)\n",
      "        db.commit()\n",
      "        \n",
      "        OR\n",
      "        conn.text_factory = str\n",
      "\n",
      "\n",
      "import sqlite3\n",
      "import sys\n",
      "conn = sqlite3.connect('snippet.db')\n",
      "conn.text_factory = str\n",
      "c = conn.cursor()\n",
      "count=0\n",
      "req=200\n",
      "search = raw_input(\"Search\")\n",
      "#for row in c.execute('SELECT rowid,* FROM tweets WHERE text MATCH %s' % search):\n",
      "for row in c.execute('SELECT * FROM snippet WHERE keywords MATCH ?', (search,)):    \n",
      "    count=count+1\n",
      "    #print count,\"by\",(row)[2],\"\n",
      "\",(row)[1],\"\n",
      "\"\n",
      "    print count,\"-\",(row)[1],\" -- by\",(row)[2],\"\n",
      "\"\n",
      "    if count > req:\n",
      "        conn.close()\n",
      "        sys.exit()\n",
      "\n",
      "\n",
      "with open(\"Use.txt\",'r') as f:\n",
      "    get_all=f.readlines()\n",
      "\n",
      "----------------\n",
      "with open(\"file.txt\",'w') as f:\n",
      "    for i,line in enumerate(get_all,1):  ## STARTS THE NUMBERING FROM 1 (by default it begins with 0)    \n",
      "        if i == 2:                       ## OVERWRITES line:2\n",
      "            f.writelines(\"XXXXXXXXXXXXXXXXXXXXXXX\n",
      "\")\n",
      "        else:\n",
      "            f.writelines(line)\n",
      "\n",
      "\n",
      "%%writefile Key.py\n",
      "def twiter():\n",
      "    CONSUMER_KEY = 'WWWWWWWWWWWWWWWW'\n",
      "    CONSUMER_SECRET = 'XXXXXXXXXXXXXXXXX'\n",
      "    ACCESS_KEY = 'YYYYYYYYYYYYYYYYYYY'\n",
      "    ACCESS_SECRET = 'ZZZZZZZZZZZZZZZZ'\n",
      "    twir = (CONSUMER_KEY, CONSUMER_SECRET, ACCESS_KEY, ACCESS_SECRET)\n",
      "    return twir\n",
      "\n",
      "\n",
      "from itertools import tee\n",
      "count=0\n",
      "with open(\"symmetrymag_tweets.csv\") as inf:\n",
      "    for line in inf:\n",
      "        lines  = line[39:]\n",
      "        outf = open(\"symmetrymag.txt\", \"a\") \n",
      "        outf.write(lines)\n",
      "outf.close() \n",
      "\n",
      "\n",
      "search = raw_input(\"find : \")\n",
      "file = open(\"symmetrymag.txt\")\n",
      "lines = file.readlines()\n",
      "for line in lines:\n",
      "    if search in line:print line\n",
      "    if search == True:\n",
      "        file.close()\n",
      "        exit()\n",
      "file.close()\n",
      "\n",
      "\n",
      "\n",
      "import sqlite3\n",
      "import time\n",
      "#account = \"TEDTalks.txt\"\n",
      "account = \"symmetrymag.txt\"\n",
      "#account = \"elonmusk.txt\"\n",
      "#account = \"realDonaldTrump.txt\"\n",
      "user = account[:-4]\n",
      "lines = open(account,\"r\")\n",
      "line = lines.readline()\n",
      "for line in lines:\n",
      "    conn = sqlite3.connect('collection.db')\n",
      "    conn.text_factory = str\n",
      "    c = conn.cursor()\n",
      "    c.execute(\"INSERT INTO tweets VALUES (?,?)\", (line, user)) \n",
      "    conn.commit()\n",
      "    conn.close()        \n",
      "    \n",
      "    #print line         \n",
      "\n",
      "conn.commit()\n",
      "conn.close()                 \n",
      "\n",
      "\n",
      "import Key\n",
      "from random import randint\n",
      "\n",
      "#Twitter API credentials\n",
      "consumer_key = Key.twiter()[0]\n",
      "consumer_secret = Key.twiter()[1]\n",
      "access_key = Key.twiter()[2]\n",
      "access_secret = Key.twiter()[3]\n",
      "\n",
      "\n",
      "def get_all_tweets(screen_name):\n",
      "    #Twitter only allows access to a users most recent 3240 tweets with this method\n",
      "\n",
      "    #authorize twitter, initialize tweepy\n",
      "    auth = tweepy.OAuthHandler(consumer_key, consumer_secret)\n",
      "    auth.set_access_token(access_key, access_secret)\n",
      "    api = tweepy.API(auth)\n",
      "\n",
      "\n",
      "\n",
      "conn = GetSqliteConnection(db_path)\n",
      "conn.text_factory = lambda x: unicode(x, 'utf-8', 'ignore')\n",
      "\n",
      "\n",
      "%%writefile /home/jack/hidden/Authorize.py\n",
      "def keys():\n",
      "    ftp = \"ftp.MYsite.com\"\n",
      "    username = \"Josephine\"\n",
      "    password = \"WhaWah2525\"\n",
      "    login = (ftp,username,password)\n",
      "    return login\n",
      "    ------------\n",
      "import sys\n",
      "sys.path.insert(0, \"/home/jack/hidden\"\n",
      "import Authorize\n",
      "ftp = Authorize.keys()[0]\n",
      "username = Authorize.keys()[1]\n",
      "password = Authorize.keys()[2]\n",
      "\n",
      "print ftp, username, password    \n",
      "    \n",
      "\n",
      "\n",
      "!sqlite3 ipydb.db \"pragma integrity_check;\"\n",
      "\n",
      "\n",
      "import base64\n",
      "string=\"This is the text above Encoded Base64\"\n",
      "encodedlistvalue=base64.b64encode(string)\n",
      "\n",
      "string = encodedlistvalue\n",
      "print encodedlistvalue,\"\n",
      "\",base64.b64decode(string)\n",
      "\n"
     ]
    }
   ],
   "source": [
    "import sqlite3\n",
    "import sys\n",
    "conn = sqlite3.connect('snippet.db')\n",
    "conn.text_factory = str\n",
    "c = conn.cursor()\n",
    "count=0;req=200\n",
    "for row in c.execute('SELECT rowid, * FROM snippets'):\n",
    "    print row[1]"
   ]
  },
  {
   "cell_type": "code",
   "execution_count": null,
   "metadata": {
    "collapsed": true
   },
   "outputs": [],
   "source": [
    "import sqlite3\n",
    "import sys\n",
    "conn = sqlite3.connect('snippet.db')\n",
    "conn.text_factory = str\n",
    "c = conn.cursor()\n",
    "count=0;req=200\n",
    "for row in c.execute('SELECT rowid, * FROM snippets'):\n",
    "    print row[1]"
   ]
  },
  {
   "cell_type": "code",
   "execution_count": 58,
   "metadata": {},
   "outputs": [
    {
     "name": "stdout",
     "output_type": "stream",
     "text": [
      "\n",
      "delimiters = ['\\n', ' ', ',', '.', '?', '!', ':', 'and_what_else_you_need']\n",
      "words = content\n",
      "for delimiter in delimiters:\n",
      "    new_words = []\n",
      "    for word in words:\n",
      "        new_words += word.split(delimiter)\n",
      "    words = new_words\n",
      "\n",
      "\n",
      "def insert_info(store):\n",
      "    with sqlite3.connect(\"misc.db\") as db:\n",
      "        #use a text_factory that can interpret 8-bit bytestrings \n",
      "        db.text_factory = str\n",
      "        cursor = db.cursor()\n",
      "        #db.text_factory = str\n",
      "        sql = \"insert into storeit (data0, data1, data2) values (?, ?, ?)\"\n",
      "        cursor.execute(sql, store)\n",
      "        db.commit()\n",
      "        \n",
      "        OR\n",
      "        conn.text_factory = str\n",
      "\n",
      "\n",
      "import sqlite3\n",
      "import sys\n",
      "conn = sqlite3.connect('snippet.db')\n",
      "conn.text_factory = str\n",
      "c = conn.cursor()\n",
      "count=0\n",
      "req=200\n",
      "search = raw_input(\"Search\")\n",
      "#for row in c.execute('SELECT rowid,* FROM tweets WHERE text MATCH %s' % search):\n",
      "for row in c.execute('SELECT * FROM snippet WHERE keywords MATCH ?', (search,)):    \n",
      "    count=count+1\n",
      "    #print count,\"by\",(row)[2],\"\n",
      "\",(row)[1],\"\n",
      "\"\n",
      "    print count,\"-\",(row)[1],\" -- by\",(row)[2],\"\n",
      "\"\n",
      "    if count > req:\n",
      "        conn.close()\n",
      "        sys.exit()\n",
      "\n",
      "\n",
      "with open(\"Use.txt\",'r') as f:\n",
      "    get_all=f.readlines()\n",
      "\n",
      "----------------\n",
      "with open(\"file.txt\",'w') as f:\n",
      "    for i,line in enumerate(get_all,1):  ## STARTS THE NUMBERING FROM 1 (by default it begins with 0)    \n",
      "        if i == 2:                       ## OVERWRITES line:2\n",
      "            f.writelines(\"XXXXXXXXXXXXXXXXXXXXXXX\n",
      "\")\n",
      "        else:\n",
      "            f.writelines(line)\n",
      "\n",
      "\n",
      "%%writefile Key.py\n",
      "def twiter():\n",
      "    CONSUMER_KEY = 'WWWWWWWWWWWWWWWW'\n",
      "    CONSUMER_SECRET = 'XXXXXXXXXXXXXXXXX'\n",
      "    ACCESS_KEY = 'YYYYYYYYYYYYYYYYYYY'\n",
      "    ACCESS_SECRET = 'ZZZZZZZZZZZZZZZZ'\n",
      "    twir = (CONSUMER_KEY, CONSUMER_SECRET, ACCESS_KEY, ACCESS_SECRET)\n",
      "    return twir\n",
      "\n",
      "\n",
      "from itertools import tee\n",
      "count=0\n",
      "with open(\"symmetrymag_tweets.csv\") as inf:\n",
      "    for line in inf:\n",
      "        lines  = line[39:]\n",
      "        outf = open(\"symmetrymag.txt\", \"a\") \n",
      "        outf.write(lines)\n",
      "outf.close() \n",
      "\n",
      "\n",
      "search = raw_input(\"find : \")\n",
      "file = open(\"symmetrymag.txt\")\n",
      "lines = file.readlines()\n",
      "for line in lines:\n",
      "    if search in line:print line\n",
      "    if search == True:\n",
      "        file.close()\n",
      "        exit()\n",
      "file.close()\n",
      "\n",
      "\n",
      "\n",
      "import sqlite3\n",
      "import time\n",
      "#account = \"TEDTalks.txt\"\n",
      "account = \"symmetrymag.txt\"\n",
      "#account = \"elonmusk.txt\"\n",
      "#account = \"realDonaldTrump.txt\"\n",
      "user = account[:-4]\n",
      "lines = open(account,\"r\")\n",
      "line = lines.readline()\n",
      "for line in lines:\n",
      "    conn = sqlite3.connect('collection.db')\n",
      "    conn.text_factory = str\n",
      "    c = conn.cursor()\n",
      "    c.execute(\"INSERT INTO tweets VALUES (?,?)\", (line, user)) \n",
      "    conn.commit()\n",
      "    conn.close()        \n",
      "    \n",
      "    #print line         \n",
      "\n",
      "conn.commit()\n",
      "conn.close()                 \n",
      "\n",
      "\n",
      "import Key\n",
      "from random import randint\n",
      "\n",
      "#Twitter API credentials\n",
      "consumer_key = Key.twiter()[0]\n",
      "consumer_secret = Key.twiter()[1]\n",
      "access_key = Key.twiter()[2]\n",
      "access_secret = Key.twiter()[3]\n",
      "\n",
      "\n",
      "def get_all_tweets(screen_name):\n",
      "    #Twitter only allows access to a users most recent 3240 tweets with this method\n",
      "\n",
      "    #authorize twitter, initialize tweepy\n",
      "    auth = tweepy.OAuthHandler(consumer_key, consumer_secret)\n",
      "    auth.set_access_token(access_key, access_secret)\n",
      "    api = tweepy.API(auth)\n",
      "\n",
      "\n",
      "\n",
      "conn = GetSqliteConnection(db_path)\n",
      "conn.text_factory = lambda x: unicode(x, 'utf-8', 'ignore')\n",
      "\n",
      "\n",
      "%%writefile /home/jack/hidden/Authorize.py\n",
      "def keys():\n",
      "    ftp = \"ftp.MYsite.com\"\n",
      "    username = \"Josephine\"\n",
      "    password = \"WhaWah2525\"\n",
      "    login = (ftp,username,password)\n",
      "    return login\n",
      "    ------------\n",
      "import sys\n",
      "sys.path.insert(0, \"/home/jack/hidden\"\n",
      "import Authorize\n",
      "ftp = Authorize.keys()[0]\n",
      "username = Authorize.keys()[1]\n",
      "password = Authorize.keys()[2]\n",
      "\n",
      "print ftp, username, password    \n",
      "    \n",
      "\n",
      "\n",
      "!sqlite3 ipydb.db \"pragma integrity_check;\"\n",
      "\n",
      "\n",
      "import base64\n",
      "string=\"This is the text above Encoded Base64\"\n",
      "encodedlistvalue=base64.b64encode(string)\n",
      "\n",
      "string = encodedlistvalue\n",
      "print encodedlistvalue,\"\n",
      "\",base64.b64decode(string)\n",
      "\n"
     ]
    },
    {
     "ename": "ProgrammingError",
     "evalue": "You must not use 8-bit bytestrings unless you use a text_factory that can interpret 8-bit bytestrings (like text_factory = str). It is highly recommended that you instead just switch your application to Unicode strings.",
     "output_type": "error",
     "traceback": [
      "\u001b[0;31m---------------------------------------------------------------------------\u001b[0m",
      "\u001b[0;31mProgrammingError\u001b[0m                          Traceback (most recent call last)",
      "\u001b[0;32m<ipython-input-58-5e1129b74dcb>\u001b[0m in \u001b[0;36m<module>\u001b[0;34m()\u001b[0m\n\u001b[1;32m      8\u001b[0m \u001b[0;32mfor\u001b[0m \u001b[0mrow\u001b[0m \u001b[0;32min\u001b[0m \u001b[0mc\u001b[0m\u001b[0;34m.\u001b[0m\u001b[0mexecute\u001b[0m\u001b[0;34m(\u001b[0m\u001b[0;34m'SELECT rowid, * FROM snippets'\u001b[0m\u001b[0;34m)\u001b[0m\u001b[0;34m:\u001b[0m\u001b[0;34m\u001b[0m\u001b[0m\n\u001b[1;32m      9\u001b[0m     \u001b[0msnippet\u001b[0m \u001b[0;34m=\u001b[0m \u001b[0mrow\u001b[0m\u001b[0;34m[\u001b[0m\u001b[0;36m1\u001b[0m\u001b[0;34m]\u001b[0m\u001b[0;34m\u001b[0m\u001b[0m\n\u001b[0;32m---> 10\u001b[0;31m     \u001b[0mcc\u001b[0m\u001b[0;34m.\u001b[0m\u001b[0mexecute\u001b[0m\u001b[0;34m(\u001b[0m\u001b[0;34m\"INSERT INTO snippets VALUES (?)\"\u001b[0m\u001b[0;34m,\u001b[0m \u001b[0;34m(\u001b[0m\u001b[0msnippet\u001b[0m\u001b[0;34m,\u001b[0m\u001b[0;34m)\u001b[0m\u001b[0;34m)\u001b[0m\u001b[0;34m\u001b[0m\u001b[0m\n\u001b[0m\u001b[1;32m     11\u001b[0m     \u001b[0mcon\u001b[0m\u001b[0;34m.\u001b[0m\u001b[0mcommit\u001b[0m\u001b[0;34m(\u001b[0m\u001b[0;34m)\u001b[0m\u001b[0;34m\u001b[0m\u001b[0m\n\u001b[1;32m     12\u001b[0m     \u001b[0;32mprint\u001b[0m \u001b[0mrow\u001b[0m\u001b[0;34m[\u001b[0m\u001b[0;36m1\u001b[0m\u001b[0;34m]\u001b[0m\u001b[0;34m\u001b[0m\u001b[0m\n",
      "\u001b[0;31mProgrammingError\u001b[0m: You must not use 8-bit bytestrings unless you use a text_factory that can interpret 8-bit bytestrings (like text_factory = str). It is highly recommended that you instead just switch your application to Unicode strings."
     ]
    }
   ],
   "source": [
    "import sqlite3\n",
    "import sys\n",
    "conn = sqlite3.connect('/home/TEMP/Databases/SNIPPETS.db')\n",
    "con = sqlite3.connect('snippet.db')\n",
    "conn.text_factory = str\n",
    "c = conn.cursor()\n",
    "cc = con.cursor()\n",
    "for row in c.execute('SELECT rowid, * FROM snippets'):\n",
    "    snippet = row[1]\n",
    "    cc.execute(\"INSERT INTO snippets VALUES (?)\", (snippet,))\n",
    "    con.commit()\n",
    "    print row[1]\n",
    "\n"
   ]
  },
  {
   "cell_type": "code",
   "execution_count": null,
   "metadata": {
    "collapsed": true
   },
   "outputs": [],
   "source": []
  }
 ],
 "metadata": {
  "kernelspec": {
   "display_name": "Python 2",
   "language": "python",
   "name": "python2"
  },
  "language_info": {
   "codemirror_mode": {
    "name": "ipython",
    "version": 2
   },
   "file_extension": ".py",
   "mimetype": "text/x-python",
   "name": "python",
   "nbconvert_exporter": "python",
   "pygments_lexer": "ipython2",
   "version": "2.7.14"
  }
 },
 "nbformat": 4,
 "nbformat_minor": 2
}
